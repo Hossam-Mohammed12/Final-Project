{
 "cells": [
  {
   "cell_type": "markdown",
   "id": "e411e695-cf44-47d7-9232-1d05adcaa38d",
   "metadata": {},
   "source": [
    "# Name of the project :startups expansion"
   ]
  },
  {
   "cell_type": "markdown",
   "id": "6da15408-8151-4140-af3c-4e3777b523a4",
   "metadata": {},
   "source": [
    "## importing the laiberiaris"
   ]
  },
  {
   "cell_type": "code",
   "execution_count": 1,
   "id": "9919538b-fa7d-4f34-8278-b63cf15330bd",
   "metadata": {},
   "outputs": [],
   "source": [
    "import pandas as pd\n"
   ]
  },
  {
   "cell_type": "code",
   "execution_count": 3,
   "id": "2db22be4-b8db-4997-b0c1-248fae66549a",
   "metadata": {},
   "outputs": [],
   "source": [
    "import numpy as np"
   ]
  },
  {
   "cell_type": "code",
   "execution_count": 44,
   "id": "ac00b570-4cb9-4a2c-bb0c-750e8799b2ac",
   "metadata": {},
   "outputs": [],
   "source": [
    "import matplotlib.pyplot as plt\n",
    "import seaborn as sns\n",
    "import numpy as np"
   ]
  },
  {
   "cell_type": "markdown",
   "id": "2bee398f-f485-4284-9a9b-9cc80ba9ec1d",
   "metadata": {},
   "source": [
    "## reading the excel file"
   ]
  },
  {
   "cell_type": "code",
   "execution_count": 5,
   "id": "cce63960-4102-4aee-a01f-b3fdfa6636ae",
   "metadata": {},
   "outputs": [],
   "source": [
    "df = pd.read_excel('Store Table.xlsx')"
   ]
  },
  {
   "cell_type": "code",
   "execution_count": 15,
   "id": "c87956e2-9f80-4378-9660-210599e3d0c5",
   "metadata": {},
   "outputs": [
    {
     "data": {
      "text/html": [
       "<div>\n",
       "<style scoped>\n",
       "    .dataframe tbody tr th:only-of-type {\n",
       "        vertical-align: middle;\n",
       "    }\n",
       "\n",
       "    .dataframe tbody tr th {\n",
       "        vertical-align: top;\n",
       "    }\n",
       "\n",
       "    .dataframe thead th {\n",
       "        text-align: right;\n",
       "    }\n",
       "</style>\n",
       "<table border=\"1\" class=\"dataframe\">\n",
       "  <thead>\n",
       "    <tr style=\"text-align: right;\">\n",
       "      <th></th>\n",
       "      <th>Store ID</th>\n",
       "      <th>City</th>\n",
       "      <th>State</th>\n",
       "      <th>Sales Region</th>\n",
       "      <th>New Expansion</th>\n",
       "      <th>Marketing Spend</th>\n",
       "      <th>Revenue</th>\n",
       "      <th>Maket ID</th>\n",
       "    </tr>\n",
       "  </thead>\n",
       "  <tbody>\n",
       "    <tr>\n",
       "      <th>0</th>\n",
       "      <td>1</td>\n",
       "      <td>Peoria</td>\n",
       "      <td>Arizona</td>\n",
       "      <td>Region 2</td>\n",
       "      <td>Old</td>\n",
       "      <td>2601.0</td>\n",
       "      <td>48610.0</td>\n",
       "      <td>1</td>\n",
       "    </tr>\n",
       "    <tr>\n",
       "      <th>1</th>\n",
       "      <td>2</td>\n",
       "      <td>Midland</td>\n",
       "      <td>Texas</td>\n",
       "      <td>Region 2</td>\n",
       "      <td>Old</td>\n",
       "      <td>2727.0</td>\n",
       "      <td>45689.0</td>\n",
       "      <td>2</td>\n",
       "    </tr>\n",
       "    <tr>\n",
       "      <th>2</th>\n",
       "      <td>3</td>\n",
       "      <td>Spokane</td>\n",
       "      <td>Washington</td>\n",
       "      <td>Region 2</td>\n",
       "      <td>Old</td>\n",
       "      <td>2768.0</td>\n",
       "      <td>49554.0</td>\n",
       "      <td>3</td>\n",
       "    </tr>\n",
       "    <tr>\n",
       "      <th>3</th>\n",
       "      <td>4</td>\n",
       "      <td>Denton</td>\n",
       "      <td>Texas</td>\n",
       "      <td>Region 2</td>\n",
       "      <td>Old</td>\n",
       "      <td>2759.0</td>\n",
       "      <td>38284.0</td>\n",
       "      <td>4</td>\n",
       "    </tr>\n",
       "    <tr>\n",
       "      <th>4</th>\n",
       "      <td>5</td>\n",
       "      <td>Overland Park</td>\n",
       "      <td>Kansas</td>\n",
       "      <td>Region 2</td>\n",
       "      <td>Old</td>\n",
       "      <td>2869.0</td>\n",
       "      <td>59887.0</td>\n",
       "      <td>5</td>\n",
       "    </tr>\n",
       "  </tbody>\n",
       "</table>\n",
       "</div>"
      ],
      "text/plain": [
       "   Store ID           City       State Sales Region New Expansion  \\\n",
       "0         1         Peoria     Arizona     Region 2           Old   \n",
       "1         2        Midland       Texas     Region 2           Old   \n",
       "2         3        Spokane  Washington     Region 2           Old   \n",
       "3         4         Denton       Texas     Region 2           Old   \n",
       "4         5  Overland Park      Kansas     Region 2           Old   \n",
       "\n",
       "   Marketing Spend  Revenue  Maket ID  \n",
       "0           2601.0  48610.0         1  \n",
       "1           2727.0  45689.0         2  \n",
       "2           2768.0  49554.0         3  \n",
       "3           2759.0  38284.0         4  \n",
       "4           2869.0  59887.0         5  "
      ]
     },
     "execution_count": 15,
     "metadata": {},
     "output_type": "execute_result"
    }
   ],
   "source": [
    "# show the first 5 rows of the data\n",
    "df.head()"
   ]
  },
  {
   "cell_type": "code",
   "execution_count": 17,
   "id": "d887d29b-81a6-4721-869c-2d49b9da4a61",
   "metadata": {},
   "outputs": [
    {
     "data": {
      "text/html": [
       "<div>\n",
       "<style scoped>\n",
       "    .dataframe tbody tr th:only-of-type {\n",
       "        vertical-align: middle;\n",
       "    }\n",
       "\n",
       "    .dataframe tbody tr th {\n",
       "        vertical-align: top;\n",
       "    }\n",
       "\n",
       "    .dataframe thead th {\n",
       "        text-align: right;\n",
       "    }\n",
       "</style>\n",
       "<table border=\"1\" class=\"dataframe\">\n",
       "  <thead>\n",
       "    <tr style=\"text-align: right;\">\n",
       "      <th></th>\n",
       "      <th>Store ID</th>\n",
       "      <th>City</th>\n",
       "      <th>State</th>\n",
       "      <th>Sales Region</th>\n",
       "      <th>New Expansion</th>\n",
       "      <th>Marketing Spend</th>\n",
       "      <th>Revenue</th>\n",
       "      <th>Maket ID</th>\n",
       "    </tr>\n",
       "  </thead>\n",
       "  <tbody>\n",
       "    <tr>\n",
       "      <th>2010</th>\n",
       "      <td>1295</td>\n",
       "      <td>Gainesville</td>\n",
       "      <td>Florida</td>\n",
       "      <td>Region 1</td>\n",
       "      <td>Old</td>\n",
       "      <td>2418.910277</td>\n",
       "      <td>33453.984223</td>\n",
       "      <td>1295</td>\n",
       "    </tr>\n",
       "    <tr>\n",
       "      <th>2011</th>\n",
       "      <td>1296</td>\n",
       "      <td>Dayton</td>\n",
       "      <td>Ohio</td>\n",
       "      <td>Region 1</td>\n",
       "      <td>Old</td>\n",
       "      <td>2418.521400</td>\n",
       "      <td>33449.189266</td>\n",
       "      <td>1296</td>\n",
       "    </tr>\n",
       "    <tr>\n",
       "      <th>2012</th>\n",
       "      <td>1297</td>\n",
       "      <td>Wichita Falls</td>\n",
       "      <td>Texas</td>\n",
       "      <td>Region 2</td>\n",
       "      <td>Old</td>\n",
       "      <td>2418.132522</td>\n",
       "      <td>33444.394310</td>\n",
       "      <td>1297</td>\n",
       "    </tr>\n",
       "    <tr>\n",
       "      <th>2013</th>\n",
       "      <td>1298</td>\n",
       "      <td>Naperville</td>\n",
       "      <td>Illinois</td>\n",
       "      <td>Region 1</td>\n",
       "      <td>Old</td>\n",
       "      <td>2417.743644</td>\n",
       "      <td>33439.599354</td>\n",
       "      <td>1298</td>\n",
       "    </tr>\n",
       "    <tr>\n",
       "      <th>2014</th>\n",
       "      <td>1299</td>\n",
       "      <td>Clovis</td>\n",
       "      <td>California</td>\n",
       "      <td>Region 2</td>\n",
       "      <td>Old</td>\n",
       "      <td>2417.354767</td>\n",
       "      <td>33434.804398</td>\n",
       "      <td>1299</td>\n",
       "    </tr>\n",
       "  </tbody>\n",
       "</table>\n",
       "</div>"
      ],
      "text/plain": [
       "      Store ID           City       State Sales Region New Expansion  \\\n",
       "2010      1295    Gainesville     Florida     Region 1           Old   \n",
       "2011      1296         Dayton        Ohio     Region 1           Old   \n",
       "2012      1297  Wichita Falls       Texas     Region 2           Old   \n",
       "2013      1298     Naperville    Illinois     Region 1           Old   \n",
       "2014      1299         Clovis  California     Region 2           Old   \n",
       "\n",
       "      Marketing Spend       Revenue  Maket ID  \n",
       "2010      2418.910277  33453.984223      1295  \n",
       "2011      2418.521400  33449.189266      1296  \n",
       "2012      2418.132522  33444.394310      1297  \n",
       "2013      2417.743644  33439.599354      1298  \n",
       "2014      2417.354767  33434.804398      1299  "
      ]
     },
     "execution_count": 17,
     "metadata": {},
     "output_type": "execute_result"
    }
   ],
   "source": [
    "# shows the last 5 rows the data\n",
    "df.tail()"
   ]
  },
  {
   "cell_type": "code",
   "execution_count": 19,
   "id": "3870c068-59c6-4350-8246-f3cf69b19b6d",
   "metadata": {},
   "outputs": [
    {
     "data": {
      "text/plain": [
       "(2015, 8)"
      ]
     },
     "execution_count": 19,
     "metadata": {},
     "output_type": "execute_result"
    }
   ],
   "source": [
    "# show number of the rows and column of the data\n",
    "df.shape"
   ]
  },
  {
   "cell_type": "code",
   "execution_count": 21,
   "id": "0750349f-9880-488f-bb4b-6afb8d3bd0e7",
   "metadata": {},
   "outputs": [
    {
     "data": {
      "text/plain": [
       "Index(['Store ID', 'City', 'State', 'Sales Region', 'New Expansion',\n",
       "       'Marketing Spend', 'Revenue', 'Maket ID'],\n",
       "      dtype='object')"
      ]
     },
     "execution_count": 21,
     "metadata": {},
     "output_type": "execute_result"
    }
   ],
   "source": [
    "#show the columns name of the data\n",
    "df.columns"
   ]
  },
  {
   "cell_type": "code",
   "execution_count": 23,
   "id": "38f9a4ff-1a14-4366-bf7b-5b557edef04c",
   "metadata": {},
   "outputs": [
    {
     "data": {
      "text/plain": [
       "Store ID           0\n",
       "City               0\n",
       "State              0\n",
       "Sales Region       0\n",
       "New Expansion      0\n",
       "Marketing Spend    0\n",
       "Revenue            0\n",
       "Maket ID           0\n",
       "dtype: int64"
      ]
     },
     "execution_count": 23,
     "metadata": {},
     "output_type": "execute_result"
    }
   ],
   "source": [
    "#show the null values\n",
    "df.isnull().sum()"
   ]
  },
  {
   "cell_type": "code",
   "execution_count": 25,
   "id": "fd973521-4f4a-4b6d-9367-53d80dcf4415",
   "metadata": {},
   "outputs": [
    {
     "data": {
      "text/plain": [
       "Store ID           0\n",
       "City               0\n",
       "State              0\n",
       "Sales Region       0\n",
       "New Expansion      0\n",
       "Marketing Spend    0\n",
       "Revenue            0\n",
       "Maket ID           0\n",
       "dtype: int64"
      ]
     },
     "execution_count": 25,
     "metadata": {},
     "output_type": "execute_result"
    }
   ],
   "source": [
    "# show the NA values\n",
    "df.isna().sum()"
   ]
  },
  {
   "cell_type": "markdown",
   "id": "b46ea30d-fc93-49dd-b8c2-b9330f8e43a0",
   "metadata": {},
   "source": [
    "we did not find any null values"
   ]
  },
  {
   "cell_type": "code",
   "execution_count": 28,
   "id": "ab0c7095-5ded-42b3-aa0a-d65bb10402e5",
   "metadata": {},
   "outputs": [
    {
     "data": {
      "text/plain": [
       "15"
      ]
     },
     "execution_count": 28,
     "metadata": {},
     "output_type": "execute_result"
    }
   ],
   "source": [
    "#show  if there is any duplicated data\n",
    "df.duplicated().sum()"
   ]
  },
  {
   "cell_type": "markdown",
   "id": "310894e0-6627-4934-ad89-8e24eee75f24",
   "metadata": {},
   "source": [
    "we found that there is 15 duplicated values"
   ]
  },
  {
   "cell_type": "code",
   "execution_count": 31,
   "id": "265f68be-098f-400c-8f0e-8b249993ee46",
   "metadata": {},
   "outputs": [],
   "source": [
    "#remove the duplicated values\n",
    "df.drop_duplicates(inplace=True)"
   ]
  },
  {
   "cell_type": "code",
   "execution_count": 37,
   "id": "19f36c27-03f0-4045-84d1-4dc29f5e5b16",
   "metadata": {},
   "outputs": [
    {
     "data": {
      "text/html": [
       "<div>\n",
       "<style scoped>\n",
       "    .dataframe tbody tr th:only-of-type {\n",
       "        vertical-align: middle;\n",
       "    }\n",
       "\n",
       "    .dataframe tbody tr th {\n",
       "        vertical-align: top;\n",
       "    }\n",
       "\n",
       "    .dataframe thead th {\n",
       "        text-align: right;\n",
       "    }\n",
       "</style>\n",
       "<table border=\"1\" class=\"dataframe\">\n",
       "  <thead>\n",
       "    <tr style=\"text-align: right;\">\n",
       "      <th></th>\n",
       "      <th>count</th>\n",
       "      <th>mean</th>\n",
       "      <th>std</th>\n",
       "      <th>min</th>\n",
       "      <th>25%</th>\n",
       "      <th>50%</th>\n",
       "      <th>75%</th>\n",
       "      <th>max</th>\n",
       "    </tr>\n",
       "  </thead>\n",
       "  <tbody>\n",
       "    <tr>\n",
       "      <th>Marketing Spend</th>\n",
       "      <td>2000.0</td>\n",
       "      <td>2533.434768</td>\n",
       "      <td>245.965787</td>\n",
       "      <td>1811.0</td>\n",
       "      <td>2335.982102</td>\n",
       "      <td>2525.268336</td>\n",
       "      <td>2711.054671</td>\n",
       "      <td>3984.0</td>\n",
       "    </tr>\n",
       "    <tr>\n",
       "      <th>Revenue</th>\n",
       "      <td>2000.0</td>\n",
       "      <td>34866.098830</td>\n",
       "      <td>5049.059427</td>\n",
       "      <td>15562.0</td>\n",
       "      <td>32225.276691</td>\n",
       "      <td>34611.966150</td>\n",
       "      <td>36989.065696</td>\n",
       "      <td>68828.0</td>\n",
       "    </tr>\n",
       "  </tbody>\n",
       "</table>\n",
       "</div>"
      ],
      "text/plain": [
       "                  count          mean          std      min           25%  \\\n",
       "Marketing Spend  2000.0   2533.434768   245.965787   1811.0   2335.982102   \n",
       "Revenue          2000.0  34866.098830  5049.059427  15562.0  32225.276691   \n",
       "\n",
       "                          50%           75%      max  \n",
       "Marketing Spend   2525.268336   2711.054671   3984.0  \n",
       "Revenue          34611.966150  36989.065696  68828.0  "
      ]
     },
     "execution_count": 37,
     "metadata": {},
     "output_type": "execute_result"
    }
   ],
   "source": [
    "#show the statistical analysis\n",
    "df[['Marketing Spend', 'Revenue']].describe().T"
   ]
  },
  {
   "cell_type": "code",
   "execution_count": 39,
   "id": "3ff4a8b0-314f-40d1-a0f8-67932ff4d2c4",
   "metadata": {},
   "outputs": [],
   "source": [
    "# repalce the values of the new expansion columns\n",
    "df['New Expansion'] = df['New Expansion'].replace('Old','old')\n",
    "df['New Expansion'] = df['New Expansion'].replace('New','new')"
   ]
  },
  {
   "cell_type": "code",
   "execution_count": 41,
   "id": "2e0319bc-7583-4c2e-bd3b-1cae8bdfc44a",
   "metadata": {},
   "outputs": [
    {
     "name": "stdout",
     "output_type": "stream",
     "text": [
      "Correlation between Marketing Spend and Revenue: 0.5327252712732411\n"
     ]
    }
   ],
   "source": [
    "# show correlation between the marketing spend and revenue\n",
    "\n",
    "correlation = df['Marketing Spend'].corr(df['Revenue'])\n",
    "print(f\"Correlation between Marketing Spend and Revenue: {correlation}\")"
   ]
  },
  {
   "cell_type": "markdown",
   "id": "2bf96c35-4f1d-4c96-8146-8ddc514c5dc0",
   "metadata": {},
   "source": [
    "there is a postive corelation between the matket spend and revenue"
   ]
  },
  {
   "cell_type": "code",
   "execution_count": 46,
   "id": "c7b0a058-d243-4bcd-a813-ca9fcf7806dd",
   "metadata": {},
   "outputs": [
    {
     "data": {
      "image/png": "[encoded data removed]",
      "text/plain": [
       "<Figure size 750x500 with 1 Axes>"
      ]
     },
     "metadata": {},
     "output_type": "display_data"
    }
   ],
   "source": [
    "# Scatter plot with a regression line\n",
    "sns.lmplot(x='Marketing Spend', y='Revenue', data=df, aspect=1.5, scatter_kws={'alpha':0.5})\n",
    "\n",
    "# Adding plot title and labels\n",
    "plt.title('Correlation between Marketing Spend and Revenue')\n",
    "plt.xlabel('Marketing Spend')\n",
    "plt.ylabel('Revenue')\n",
    "\n",
    "# Display the plot\n",
    "plt.show()"
   ]
  },
  {
   "cell_type": "code",
   "execution_count": 48,
   "id": "90d7cb47-fbb5-48dd-a9ce-16f5388e3a58",
   "metadata": {},
   "outputs": [
    {
     "name": "stdout",
     "output_type": "stream",
     "text": [
      "<class 'pandas.core.frame.DataFrame'>\n",
      "Index: 2000 entries, 0 to 1999\n",
      "Data columns (total 8 columns):\n",
      " #   Column           Non-Null Count  Dtype  \n",
      "---  ------           --------------  -----  \n",
      " 0   Store ID         2000 non-null   int64  \n",
      " 1   City             2000 non-null   object \n",
      " 2   State            2000 non-null   object \n",
      " 3   Sales Region     2000 non-null   object \n",
      " 4   New Expansion    2000 non-null   object \n",
      " 5   Marketing Spend  2000 non-null   float64\n",
      " 6   Revenue          2000 non-null   float64\n",
      " 7   Maket ID         2000 non-null   int64  \n",
      "dtypes: float64(2), int64(2), object(4)\n",
      "memory usage: 140.6+ KB\n"
     ]
    }
   ],
   "source": [
    "#show the data types of the data\n",
    "df.info()"
   ]
  },
  {
   "cell_type": "markdown",
   "id": "bb4c6d6f-f018-4218-9167-ad8a5bdba0a3",
   "metadata": {},
   "source": [
    "we found that all the data types are correct"
   ]
  },
  {
   "cell_type": "code",
   "execution_count": 56,
   "id": "45663c17-74f5-419a-8bd5-d1feb03cdd9e",
   "metadata": {},
   "outputs": [],
   "source": [
    "#calculate retern of invesment per market id\n",
    "\n",
    "df['ROI'] = (df['Revenue'] - df['Marketing Spend']) / df['Marketing Spend']"
   ]
  },
  {
   "cell_type": "code",
   "execution_count": 62,
   "id": "acb412a7-285c-40ba-892e-f0c22db9be2b",
   "metadata": {},
   "outputs": [
    {
     "data": {
      "text/html": [
       "<div>\n",
       "<style scoped>\n",
       "    .dataframe tbody tr th:only-of-type {\n",
       "        vertical-align: middle;\n",
       "    }\n",
       "\n",
       "    .dataframe tbody tr th {\n",
       "        vertical-align: top;\n",
       "    }\n",
       "\n",
       "    .dataframe thead th {\n",
       "        text-align: right;\n",
       "    }\n",
       "</style>\n",
       "<table border=\"1\" class=\"dataframe\">\n",
       "  <thead>\n",
       "    <tr style=\"text-align: right;\">\n",
       "      <th></th>\n",
       "      <th>Store ID</th>\n",
       "      <th>City</th>\n",
       "      <th>State</th>\n",
       "      <th>Sales Region</th>\n",
       "      <th>New Expansion</th>\n",
       "      <th>Marketing Spend</th>\n",
       "      <th>Revenue</th>\n",
       "      <th>Maket ID</th>\n",
       "      <th>ROI</th>\n",
       "    </tr>\n",
       "  </thead>\n",
       "  <tbody>\n",
       "    <tr>\n",
       "      <th>0</th>\n",
       "      <td>1</td>\n",
       "      <td>Peoria</td>\n",
       "      <td>Arizona</td>\n",
       "      <td>Region 2</td>\n",
       "      <td>old</td>\n",
       "      <td>2601.0</td>\n",
       "      <td>48610.0</td>\n",
       "      <td>1</td>\n",
       "      <td>17.688966</td>\n",
       "    </tr>\n",
       "    <tr>\n",
       "      <th>1</th>\n",
       "      <td>2</td>\n",
       "      <td>Midland</td>\n",
       "      <td>Texas</td>\n",
       "      <td>Region 2</td>\n",
       "      <td>old</td>\n",
       "      <td>2727.0</td>\n",
       "      <td>45689.0</td>\n",
       "      <td>2</td>\n",
       "      <td>15.754309</td>\n",
       "    </tr>\n",
       "    <tr>\n",
       "      <th>2</th>\n",
       "      <td>3</td>\n",
       "      <td>Spokane</td>\n",
       "      <td>Washington</td>\n",
       "      <td>Region 2</td>\n",
       "      <td>old</td>\n",
       "      <td>2768.0</td>\n",
       "      <td>49554.0</td>\n",
       "      <td>3</td>\n",
       "      <td>16.902457</td>\n",
       "    </tr>\n",
       "    <tr>\n",
       "      <th>3</th>\n",
       "      <td>4</td>\n",
       "      <td>Denton</td>\n",
       "      <td>Texas</td>\n",
       "      <td>Region 2</td>\n",
       "      <td>old</td>\n",
       "      <td>2759.0</td>\n",
       "      <td>38284.0</td>\n",
       "      <td>4</td>\n",
       "      <td>12.876042</td>\n",
       "    </tr>\n",
       "    <tr>\n",
       "      <th>4</th>\n",
       "      <td>5</td>\n",
       "      <td>Overland Park</td>\n",
       "      <td>Kansas</td>\n",
       "      <td>Region 2</td>\n",
       "      <td>old</td>\n",
       "      <td>2869.0</td>\n",
       "      <td>59887.0</td>\n",
       "      <td>5</td>\n",
       "      <td>19.873824</td>\n",
       "    </tr>\n",
       "  </tbody>\n",
       "</table>\n",
       "</div>"
      ],
      "text/plain": [
       "   Store ID           City       State Sales Region New Expansion  \\\n",
       "0         1         Peoria     Arizona     Region 2           old   \n",
       "1         2        Midland       Texas     Region 2           old   \n",
       "2         3        Spokane  Washington     Region 2           old   \n",
       "3         4         Denton       Texas     Region 2           old   \n",
       "4         5  Overland Park      Kansas     Region 2           old   \n",
       "\n",
       "   Marketing Spend  Revenue  Maket ID        ROI  \n",
       "0           2601.0  48610.0         1  17.688966  \n",
       "1           2727.0  45689.0         2  15.754309  \n",
       "2           2768.0  49554.0         3  16.902457  \n",
       "3           2759.0  38284.0         4  12.876042  \n",
       "4           2869.0  59887.0         5  19.873824  "
      ]
     },
     "execution_count": 62,
     "metadata": {},
     "output_type": "execute_result"
    }
   ],
   "source": [
    "#appoximate  the ROI to 2 dicemal point and convert to int\n",
    "\n",
    "df['ROI'].round(2).astype(int)\n",
    "df.head()"
   ]
  },
  {
   "cell_type": "code",
   "execution_count": 51,
   "id": "aa8fe3bb-9a98-4b89-a48c-f20273d9ed34",
   "metadata": {},
   "outputs": [
    {
     "data": {
      "text/plain": [
       "array([[<Axes: title={'center': 'Marketing Spend'}>,\n",
       "        <Axes: title={'center': 'Revenue'}>]], dtype=object)"
      ]
     },
     "execution_count": 51,
     "metadata": {},
     "output_type": "execute_result"
    },
    {
     "data": {
      "image/png": "[encoded data removed]",
      "text/plain": [
       "<Figure size 1000x800 with 2 Axes>"
      ]
     },
     "metadata": {},
     "output_type": "display_data"
    }
   ],
   "source": [
    "df[['Marketing Spend', 'Revenue']].hist(figsize=(10,8))"
   ]
  },
  {
   "cell_type": "markdown",
   "id": "076e0d57-5497-47e5-9dff-5a57494e6711",
   "metadata": {},
   "source": [
    "**Marketing Spend**:\n",
    "Right-skewed distribution (positively skewed).\n",
    "The majority of the marketing spends fall between 2000 and 3000, with fewer stores spending more than 3500.\n",
    "\n",
    "**Revenue**:\n",
    "Right-skewed distribution (positively skewed).\n",
    "Most revenues are concentrated between 25,000 and 45,000, with some outliers around 60,000 to 70,000."
   ]
  },
  {
   "cell_type": "markdown",
   "id": "17e01d9c-446a-4dd2-a3e1-5252af260f2d",
   "metadata": {},
   "source": [
    "## reading the excel file"
   ]
  },
  {
   "cell_type": "code",
   "execution_count": 60,
   "id": "aa293023-6a0a-4ae0-9c42-f574c66b69a3",
   "metadata": {},
   "outputs": [],
   "source": [
    "#read the market excel file\n",
    "df1 = pd.read_excel('Market Table.xlsx')"
   ]
  },
  {
   "cell_type": "code",
   "execution_count": 64,
   "id": "b2e49bc6-800c-4e4f-97f7-5176c70ebb5f",
   "metadata": {},
   "outputs": [
    {
     "data": {
      "text/html": [
       "<div>\n",
       "<style scoped>\n",
       "    .dataframe tbody tr th:only-of-type {\n",
       "        vertical-align: middle;\n",
       "    }\n",
       "\n",
       "    .dataframe tbody tr th {\n",
       "        vertical-align: top;\n",
       "    }\n",
       "\n",
       "    .dataframe thead th {\n",
       "        text-align: right;\n",
       "    }\n",
       "</style>\n",
       "<table border=\"1\" class=\"dataframe\">\n",
       "  <thead>\n",
       "    <tr style=\"text-align: right;\">\n",
       "      <th></th>\n",
       "      <th>Maket ID</th>\n",
       "      <th>Startup Type</th>\n",
       "      <th>Company Size</th>\n",
       "      <th>Challenges</th>\n",
       "      <th>Marketing Strategy</th>\n",
       "      <th>Years in Market</th>\n",
       "    </tr>\n",
       "  </thead>\n",
       "  <tbody>\n",
       "    <tr>\n",
       "      <th>0</th>\n",
       "      <td>1</td>\n",
       "      <td>AgriTech</td>\n",
       "      <td>326</td>\n",
       "      <td>Market Competition</td>\n",
       "      <td>Social Media Marketing</td>\n",
       "      <td>2.0</td>\n",
       "    </tr>\n",
       "    <tr>\n",
       "      <th>1</th>\n",
       "      <td>2</td>\n",
       "      <td>FinTech</td>\n",
       "      <td>249</td>\n",
       "      <td>Market Competition</td>\n",
       "      <td>Social Media Marketing</td>\n",
       "      <td>3.0</td>\n",
       "    </tr>\n",
       "    <tr>\n",
       "      <th>2</th>\n",
       "      <td>3</td>\n",
       "      <td>FinTech</td>\n",
       "      <td>915</td>\n",
       "      <td>Product Development Issues</td>\n",
       "      <td>Content Marketing</td>\n",
       "      <td>2.0</td>\n",
       "    </tr>\n",
       "    <tr>\n",
       "      <th>3</th>\n",
       "      <td>4</td>\n",
       "      <td>RetailTech</td>\n",
       "      <td>620</td>\n",
       "      <td>Scaling and Growth</td>\n",
       "      <td>Direct Marketing</td>\n",
       "      <td>2.0</td>\n",
       "    </tr>\n",
       "    <tr>\n",
       "      <th>4</th>\n",
       "      <td>5</td>\n",
       "      <td>RetailTech</td>\n",
       "      <td>609</td>\n",
       "      <td>Financial Constraints</td>\n",
       "      <td>Content Marketing</td>\n",
       "      <td>1.0</td>\n",
       "    </tr>\n",
       "  </tbody>\n",
       "</table>\n",
       "</div>"
      ],
      "text/plain": [
       "   Maket ID Startup Type  Company Size                  Challenges  \\\n",
       "0         1     AgriTech           326          Market Competition   \n",
       "1         2      FinTech           249          Market Competition   \n",
       "2         3      FinTech           915  Product Development Issues   \n",
       "3         4   RetailTech           620          Scaling and Growth   \n",
       "4         5   RetailTech           609       Financial Constraints   \n",
       "\n",
       "       Marketing Strategy  Years in Market  \n",
       "0  Social Media Marketing              2.0  \n",
       "1  Social Media Marketing              3.0  \n",
       "2       Content Marketing              2.0  \n",
       "3        Direct Marketing              2.0  \n",
       "4       Content Marketing              1.0  "
      ]
     },
     "execution_count": 64,
     "metadata": {},
     "output_type": "execute_result"
    }
   ],
   "source": [
    "# read the first 5 rows of the data\n",
    "df1.head()"
   ]
  },
  {
   "cell_type": "code",
   "execution_count": 66,
   "id": "7e6e0aaa-144e-450e-b86d-cfb0b83475dd",
   "metadata": {},
   "outputs": [
    {
     "data": {
      "text/plain": [
       "(2000, 6)"
      ]
     },
     "execution_count": 66,
     "metadata": {},
     "output_type": "execute_result"
    }
   ],
   "source": [
    "# show the columns and rows number\n",
    "df1.shape"
   ]
  },
  {
   "cell_type": "code",
   "execution_count": 68,
   "id": "f4892aaa-25b7-43fa-8a75-6d3353849add",
   "metadata": {},
   "outputs": [
    {
     "data": {
      "text/plain": [
       "Maket ID              0\n",
       "Startup Type          0\n",
       "Company Size          0\n",
       "Challenges            0\n",
       "Marketing Strategy    0\n",
       "Years in Market       5\n",
       "dtype: int64"
      ]
     },
     "execution_count": 68,
     "metadata": {},
     "output_type": "execute_result"
    }
   ],
   "source": [
    "#show null values\n",
    "df1.isnull().sum()"
   ]
  },
  {
   "cell_type": "markdown",
   "id": "46b7b12a-7ed7-4023-82f5-99ac4fe2b12f",
   "metadata": {},
   "source": [
    "we have found that there is 5 values nulls in years of the market columns"
   ]
  },
  {
   "cell_type": "code",
   "execution_count": 79,
   "id": "5f5b6a2b-9725-476a-8593-24bd97016b61",
   "metadata": {},
   "outputs": [],
   "source": [
    "# fill the null values with a fillup method\n",
    "df1[\"Years in Market\"] = df1[\"Years in Market\"].fillna(df1[\"Years in Market\"].shift(1))"
   ]
  },
  {
   "cell_type": "code",
   "execution_count": 85,
   "id": "42dbb936-876a-43bd-a593-31065a7c374d",
   "metadata": {},
   "outputs": [
    {
     "data": {
      "text/html": [
       "<div>\n",
       "<style scoped>\n",
       "    .dataframe tbody tr th:only-of-type {\n",
       "        vertical-align: middle;\n",
       "    }\n",
       "\n",
       "    .dataframe tbody tr th {\n",
       "        vertical-align: top;\n",
       "    }\n",
       "\n",
       "    .dataframe thead th {\n",
       "        text-align: right;\n",
       "    }\n",
       "</style>\n",
       "<table border=\"1\" class=\"dataframe\">\n",
       "  <thead>\n",
       "    <tr style=\"text-align: right;\">\n",
       "      <th></th>\n",
       "      <th>Company Size</th>\n",
       "    </tr>\n",
       "  </thead>\n",
       "  <tbody>\n",
       "    <tr>\n",
       "      <th>count</th>\n",
       "      <td>2000.000000</td>\n",
       "    </tr>\n",
       "    <tr>\n",
       "      <th>mean</th>\n",
       "      <td>501.331500</td>\n",
       "    </tr>\n",
       "    <tr>\n",
       "      <th>std</th>\n",
       "      <td>291.169663</td>\n",
       "    </tr>\n",
       "    <tr>\n",
       "      <th>min</th>\n",
       "      <td>-800.000000</td>\n",
       "    </tr>\n",
       "    <tr>\n",
       "      <th>25%</th>\n",
       "      <td>246.000000</td>\n",
       "    </tr>\n",
       "    <tr>\n",
       "      <th>50%</th>\n",
       "      <td>507.500000</td>\n",
       "    </tr>\n",
       "    <tr>\n",
       "      <th>75%</th>\n",
       "      <td>755.250000</td>\n",
       "    </tr>\n",
       "    <tr>\n",
       "      <th>max</th>\n",
       "      <td>1000.000000</td>\n",
       "    </tr>\n",
       "  </tbody>\n",
       "</table>\n",
       "</div>"
      ],
      "text/plain": [
       "       Company Size\n",
       "count   2000.000000\n",
       "mean     501.331500\n",
       "std      291.169663\n",
       "min     -800.000000\n",
       "25%      246.000000\n",
       "50%      507.500000\n",
       "75%      755.250000\n",
       "max     1000.000000"
      ]
     },
     "execution_count": 85,
     "metadata": {},
     "output_type": "execute_result"
    }
   ],
   "source": [
    "# show statistcal analysis of the data\n",
    "df1[['Company Size']].describe()"
   ]
  },
  {
   "cell_type": "markdown",
   "id": "5a413aed-42d2-400c-ba99-1ec674dd23ad",
   "metadata": {},
   "source": [
    "we have found that there is one outliier at company size column with (-800) employee"
   ]
  },
  {
   "cell_type": "code",
   "execution_count": 88,
   "id": "8596f27f-b44e-449f-a958-831f987753a0",
   "metadata": {},
   "outputs": [],
   "source": [
    "#replace the outlir\n",
    "df1['Company Size'] = df1['Company Size'].replace(-800,800)"
   ]
  },
  {
   "cell_type": "code",
   "execution_count": 90,
   "id": "b76c13c6-aead-43ba-936c-055677ddbab8",
   "metadata": {},
   "outputs": [
    {
     "data": {
      "text/plain": [
       "0"
      ]
     },
     "execution_count": 90,
     "metadata": {},
     "output_type": "execute_result"
    }
   ],
   "source": [
    "#show the duplicated data\n",
    "df1.duplicated().sum()"
   ]
  },
  {
   "cell_type": "markdown",
   "id": "860c6dc1-cef9-4619-93ee-f82e6f728b97",
   "metadata": {},
   "source": [
    "we did not find any duplicated vlaues"
   ]
  },
  {
   "cell_type": "code",
   "execution_count": 93,
   "id": "59d98f9e-5794-47c6-953c-4874d47f92ad",
   "metadata": {},
   "outputs": [
    {
     "name": "stdout",
     "output_type": "stream",
     "text": [
      "<class 'pandas.core.frame.DataFrame'>\n",
      "RangeIndex: 2000 entries, 0 to 1999\n",
      "Data columns (total 6 columns):\n",
      " #   Column              Non-Null Count  Dtype  \n",
      "---  ------              --------------  -----  \n",
      " 0   Maket ID            2000 non-null   int64  \n",
      " 1   Startup Type        2000 non-null   object \n",
      " 2   Company Size        2000 non-null   int64  \n",
      " 3   Challenges          2000 non-null   object \n",
      " 4   Marketing Strategy  2000 non-null   object \n",
      " 5   Years in Market     2000 non-null   float64\n",
      "dtypes: float64(1), int64(2), object(3)\n",
      "memory usage: 93.9+ KB\n"
     ]
    }
   ],
   "source": [
    "#show data types of the data\n",
    "df1.info()"
   ]
  },
  {
   "cell_type": "code",
   "execution_count": 95,
   "id": "b98a3f47-0ce0-4ecb-bc65-52e1b7d1e1bf",
   "metadata": {},
   "outputs": [],
   "source": [
    "#grouping the company size into segmants\n",
    "def categorize_company_size(size):\n",
    "  if 0 <= size <= 10:\n",
    "    return '0-10'\n",
    "  elif 10 < size <= 50:\n",
    "    return '11-50'\n",
    "  elif 50 < size <= 200:\n",
    "    return '51-200'\n",
    "  elif 200 < size <= 500:\n",
    "    return '201-500'\n",
    "  elif 500 < size <= 1000:\n",
    "    return '501-1000'\n",
    "  else:\n",
    "    return 'Other'\n",
    "\n",
    "df1['Company Size Category'] = df1['Company Size'].apply(categorize_company_size)"
   ]
  },
  {
   "cell_type": "code",
   "execution_count": 97,
   "id": "8e3b4965-d5bd-47aa-81d6-99e5d4f52172",
   "metadata": {},
   "outputs": [
    {
     "data": {
      "text/html": [
       "<div>\n",
       "<style scoped>\n",
       "    .dataframe tbody tr th:only-of-type {\n",
       "        vertical-align: middle;\n",
       "    }\n",
       "\n",
       "    .dataframe tbody tr th {\n",
       "        vertical-align: top;\n",
       "    }\n",
       "\n",
       "    .dataframe thead th {\n",
       "        text-align: right;\n",
       "    }\n",
       "</style>\n",
       "<table border=\"1\" class=\"dataframe\">\n",
       "  <thead>\n",
       "    <tr style=\"text-align: right;\">\n",
       "      <th></th>\n",
       "      <th>Maket ID</th>\n",
       "      <th>Startup Type</th>\n",
       "      <th>Company Size</th>\n",
       "      <th>Challenges</th>\n",
       "      <th>Marketing Strategy</th>\n",
       "      <th>Years in Market</th>\n",
       "      <th>Company Size Category</th>\n",
       "    </tr>\n",
       "  </thead>\n",
       "  <tbody>\n",
       "    <tr>\n",
       "      <th>0</th>\n",
       "      <td>1</td>\n",
       "      <td>AgriTech</td>\n",
       "      <td>326</td>\n",
       "      <td>Market Competition</td>\n",
       "      <td>Social Media Marketing</td>\n",
       "      <td>2.0</td>\n",
       "      <td>201-500</td>\n",
       "    </tr>\n",
       "    <tr>\n",
       "      <th>1</th>\n",
       "      <td>2</td>\n",
       "      <td>FinTech</td>\n",
       "      <td>249</td>\n",
       "      <td>Market Competition</td>\n",
       "      <td>Social Media Marketing</td>\n",
       "      <td>3.0</td>\n",
       "      <td>201-500</td>\n",
       "    </tr>\n",
       "    <tr>\n",
       "      <th>2</th>\n",
       "      <td>3</td>\n",
       "      <td>FinTech</td>\n",
       "      <td>915</td>\n",
       "      <td>Product Development Issues</td>\n",
       "      <td>Content Marketing</td>\n",
       "      <td>2.0</td>\n",
       "      <td>501-1000</td>\n",
       "    </tr>\n",
       "    <tr>\n",
       "      <th>3</th>\n",
       "      <td>4</td>\n",
       "      <td>RetailTech</td>\n",
       "      <td>620</td>\n",
       "      <td>Scaling and Growth</td>\n",
       "      <td>Direct Marketing</td>\n",
       "      <td>2.0</td>\n",
       "      <td>501-1000</td>\n",
       "    </tr>\n",
       "    <tr>\n",
       "      <th>4</th>\n",
       "      <td>5</td>\n",
       "      <td>RetailTech</td>\n",
       "      <td>609</td>\n",
       "      <td>Financial Constraints</td>\n",
       "      <td>Content Marketing</td>\n",
       "      <td>1.0</td>\n",
       "      <td>501-1000</td>\n",
       "    </tr>\n",
       "  </tbody>\n",
       "</table>\n",
       "</div>"
      ],
      "text/plain": [
       "   Maket ID Startup Type  Company Size                  Challenges  \\\n",
       "0         1     AgriTech           326          Market Competition   \n",
       "1         2      FinTech           249          Market Competition   \n",
       "2         3      FinTech           915  Product Development Issues   \n",
       "3         4   RetailTech           620          Scaling and Growth   \n",
       "4         5   RetailTech           609       Financial Constraints   \n",
       "\n",
       "       Marketing Strategy  Years in Market Company Size Category  \n",
       "0  Social Media Marketing              2.0               201-500  \n",
       "1  Social Media Marketing              3.0               201-500  \n",
       "2       Content Marketing              2.0              501-1000  \n",
       "3        Direct Marketing              2.0              501-1000  \n",
       "4       Content Marketing              1.0              501-1000  "
      ]
     },
     "execution_count": 97,
     "metadata": {},
     "output_type": "execute_result"
    }
   ],
   "source": [
    "df1.head()"
   ]
  },
  {
   "cell_type": "code",
   "execution_count": 99,
   "id": "596b0ce8-f955-4368-a675-19fff6f21566",
   "metadata": {},
   "outputs": [
    {
     "data": {
      "text/plain": [
       "<Axes: >"
      ]
     },
     "execution_count": 99,
     "metadata": {},
     "output_type": "execute_result"
    },
    {
     "data": {
      "image/png": "[encoded data removed]",
      "text/plain": [
       "<Figure size 640x480 with 1 Axes>"
      ]
     },
     "metadata": {},
     "output_type": "display_data"
    }
   ],
   "source": [
    "#show distrbution of the data\n",
    "\n",
    "df1['Company Size'].hist()"
   ]
  },
  {
   "cell_type": "markdown",
   "id": "bbe41374-84de-4099-8d5c-760504737fc9",
   "metadata": {},
   "source": [
    "we did not find any distribution"
   ]
  },
  {
   "cell_type": "code",
   "execution_count": 102,
   "id": "22815304-04e5-4058-ac42-347788306c26",
   "metadata": {},
   "outputs": [
    {
     "data": {
      "text/plain": [
       "Company Size Category\n",
       "501-1000    1009\n",
       "201-500      588\n",
       "51-200       304\n",
       "11-50         89\n",
       "0-10          10\n",
       "Name: count, dtype: int64"
      ]
     },
     "execution_count": 102,
     "metadata": {},
     "output_type": "execute_result"
    }
   ],
   "source": [
    "#show the groupting data\n",
    "df1['Company Size Category'].value_counts()"
   ]
  },
  {
   "cell_type": "code",
   "execution_count": 104,
   "id": "eee732b2-47f8-4e27-b168-7cb5eba3a398",
   "metadata": {},
   "outputs": [],
   "source": [
    "#save the file into excel file\n",
    "df.to_excel('updated startup.xlsx', index=False)\n",
    "df1.to_excel('updated_market_data.xlsx', index=False)"
   ]
  },
  {
   "cell_type": "code",
   "execution_count": null,
   "id": "11aa3105-2806-449e-8b54-48933825e0b6",
   "metadata": {},
   "outputs": [],
   "source": []
  },
  {
   "cell_type": "code",
   "execution_count": null,
   "id": "41742ca8-c7c0-497d-8164-7cc632d0f582",
   "metadata": {},
   "outputs": [],
   "source": []
  }
 ],
 "metadata": {
  "kernelspec": {
   "display_name": "Python 3 (ipykernel)",
   "language": "python",
   "name": "python3"
  },
  "language_info": {
   "codemirror_mode": {
    "name": "ipython",
    "version": 3
   },
   "file_extension": ".py",
   "mimetype": "text/x-python",
   "name": "python",
   "nbconvert_exporter": "python",
   "pygments_lexer": "ipython3",
   "version": "3.12.4"
  }
 },
 "nbformat": 4,
 "nbformat_minor": 5
}
